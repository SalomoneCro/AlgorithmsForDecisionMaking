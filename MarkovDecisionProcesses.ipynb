{
 "cells": [
  {
   "cell_type": "code",
   "execution_count": 41,
   "id": "4d3ecbff",
   "metadata": {},
   "outputs": [],
   "source": [
    "import numpy as np\n",
    "import mdptoolbox"
   ]
  },
  {
   "cell_type": "code",
   "execution_count": 42,
   "id": "6b6d6f30",
   "metadata": {},
   "outputs": [],
   "source": [
    "# ------------------ Parámetros configurables ------------------ #\n",
    "max_storage = 20       # Límite físico de tanques que se pueden almacenar\n",
    "max_order = 20          # Máximo número de tanques que se pueden pedir\n",
    "max_stock = 20         # Máximo estado considerado (permite sobrestock)\n",
    "demanda_vals = [0, 1, 2]\n",
    "demanda_probs = [0.4, 0.4, 0.2]\n",
    "precio_venta_tanque = 2.0\n",
    "precio_venta_buque = 0.7\n",
    "costo_compra = 1.6\n",
    "costo_almacenamiento = 0.02\n",
    "descuento = 0.8\n",
    "\n",
    "n_states = max_stock + 1\n",
    "n_actions = max_order + 1"
   ]
  },
  {
   "cell_type": "code",
   "execution_count": 43,
   "id": "f7dafc4f",
   "metadata": {},
   "outputs": [],
   "source": [
    "# ------------------ Inicializar matrices T y R ------------------ #\n",
    "T = np.zeros((n_actions, n_states, n_states))\n",
    "R = np.zeros((n_states, n_actions))"
   ]
  },
  {
   "cell_type": "code",
   "execution_count": 44,
   "id": "68670fa0",
   "metadata": {},
   "outputs": [],
   "source": [
    "# ------------------ Función de recompensa ------------------ #\n",
    "def recompensa(s, d, r):\n",
    "    vendidos_tanque = min(s, r)\n",
    "    restantes = max(0, s - r)\n",
    "    vendidos_buque = max(0, s - 2 - r)\n",
    "\n",
    "    ingreso = (\n",
    "        precio_venta_tanque * vendidos_tanque +\n",
    "        precio_venta_buque * vendidos_buque\n",
    "    )\n",
    "    costo = costo_compra * d\n",
    "    costo_alm = costo_almacenamiento * restantes\n",
    "    return ingreso - costo - costo_alm"
   ]
  },
  {
   "cell_type": "code",
   "execution_count": 45,
   "id": "b8346ed5",
   "metadata": {},
   "outputs": [],
   "source": [
    "# ------------------ Construir matrices T y R ------------------ #\n",
    "for a in range(n_actions):\n",
    "    d = a  # acción = cantidad a pedir\n",
    "    for s in range(n_states):\n",
    "        for r, p_r in zip(demanda_vals, demanda_probs):\n",
    "            s_after_demand = max(0, s - r)  # stock restante tras demanda\n",
    "            s_prim = min(s_after_demand + d, max_stock)  # stock futuro con llegada del pedido\n",
    "            T[a, s, s_prim] += p_r\n",
    "            R[s, a] += p_r * recompensa(s, d, r)"
   ]
  },
  {
   "cell_type": "code",
   "execution_count": 46,
   "id": "57aba4d3",
   "metadata": {},
   "outputs": [],
   "source": [
    "# ------------------ Resolver con Value Iteration ------------------ #\n",
    "vi = mdptoolbox.mdp.ValueIteration(transitions=T, reward=R, discount=descuento)\n",
    "vi.run()"
   ]
  },
  {
   "cell_type": "code",
   "execution_count": 47,
   "id": "aea29fec",
   "metadata": {},
   "outputs": [
    {
     "name": "stdout",
     "output_type": "stream",
     "text": [
      "Política óptima (tanques a pedir según stock actual):\n",
      "Stock 0: pedir 20 tanques\n",
      "Stock 1: pedir 19 tanques\n",
      "Stock 2: pedir 18 tanques\n",
      "Stock 3: pedir 17 tanques\n",
      "Stock 4: pedir 16 tanques\n",
      "Stock 5: pedir 15 tanques\n",
      "Stock 6: pedir 14 tanques\n",
      "Stock 7: pedir 13 tanques\n",
      "Stock 8: pedir 12 tanques\n",
      "Stock 9: pedir 11 tanques\n",
      "Stock 10: pedir 10 tanques\n",
      "Stock 11: pedir 9 tanques\n",
      "Stock 12: pedir 8 tanques\n",
      "Stock 13: pedir 7 tanques\n",
      "Stock 14: pedir 6 tanques\n",
      "Stock 15: pedir 5 tanques\n",
      "Stock 16: pedir 4 tanques\n",
      "Stock 17: pedir 3 tanques\n",
      "Stock 18: pedir 2 tanques\n",
      "Stock 19: pedir 1 tanques\n",
      "Stock 20: pedir 0 tanques\n"
     ]
    }
   ],
   "source": [
    "# ------------------ Mostrar política ------------------ #\n",
    "print(\"Política óptima (tanques a pedir según stock actual):\")\n",
    "for s in range(n_states):\n",
    "    print(f\"Stock {s}: pedir {vi.policy[s]} tanques\")"
   ]
  },
  {
   "cell_type": "code",
   "execution_count": 48,
   "id": "97a11417",
   "metadata": {},
   "outputs": [
    {
     "data": {
      "text/plain": [
       "array([[[1. , 0. , 0. , ..., 0. , 0. , 0. ],\n",
       "        [0.6, 0.4, 0. , ..., 0. , 0. , 0. ],\n",
       "        [0.2, 0.4, 0.4, ..., 0. , 0. , 0. ],\n",
       "        ...,\n",
       "        [0. , 0. , 0. , ..., 0.4, 0. , 0. ],\n",
       "        [0. , 0. , 0. , ..., 0.4, 0.4, 0. ],\n",
       "        [0. , 0. , 0. , ..., 0.2, 0.4, 0.4]],\n",
       "\n",
       "       [[0. , 1. , 0. , ..., 0. , 0. , 0. ],\n",
       "        [0. , 0.6, 0.4, ..., 0. , 0. , 0. ],\n",
       "        [0. , 0.2, 0.4, ..., 0. , 0. , 0. ],\n",
       "        ...,\n",
       "        [0. , 0. , 0. , ..., 0.4, 0.4, 0. ],\n",
       "        [0. , 0. , 0. , ..., 0.2, 0.4, 0.4],\n",
       "        [0. , 0. , 0. , ..., 0. , 0.2, 0.8]],\n",
       "\n",
       "       [[0. , 0. , 1. , ..., 0. , 0. , 0. ],\n",
       "        [0. , 0. , 0.6, ..., 0. , 0. , 0. ],\n",
       "        [0. , 0. , 0.2, ..., 0. , 0. , 0. ],\n",
       "        ...,\n",
       "        [0. , 0. , 0. , ..., 0.2, 0.4, 0.4],\n",
       "        [0. , 0. , 0. , ..., 0. , 0.2, 0.8],\n",
       "        [0. , 0. , 0. , ..., 0. , 0. , 1. ]],\n",
       "\n",
       "       ...,\n",
       "\n",
       "       [[0. , 0. , 0. , ..., 1. , 0. , 0. ],\n",
       "        [0. , 0. , 0. , ..., 0.6, 0.4, 0. ],\n",
       "        [0. , 0. , 0. , ..., 0.2, 0.4, 0.4],\n",
       "        ...,\n",
       "        [0. , 0. , 0. , ..., 0. , 0. , 1. ],\n",
       "        [0. , 0. , 0. , ..., 0. , 0. , 1. ],\n",
       "        [0. , 0. , 0. , ..., 0. , 0. , 1. ]],\n",
       "\n",
       "       [[0. , 0. , 0. , ..., 0. , 1. , 0. ],\n",
       "        [0. , 0. , 0. , ..., 0. , 0.6, 0.4],\n",
       "        [0. , 0. , 0. , ..., 0. , 0.2, 0.8],\n",
       "        ...,\n",
       "        [0. , 0. , 0. , ..., 0. , 0. , 1. ],\n",
       "        [0. , 0. , 0. , ..., 0. , 0. , 1. ],\n",
       "        [0. , 0. , 0. , ..., 0. , 0. , 1. ]],\n",
       "\n",
       "       [[0. , 0. , 0. , ..., 0. , 0. , 1. ],\n",
       "        [0. , 0. , 0. , ..., 0. , 0. , 1. ],\n",
       "        [0. , 0. , 0. , ..., 0. , 0. , 1. ],\n",
       "        ...,\n",
       "        [0. , 0. , 0. , ..., 0. , 0. , 1. ],\n",
       "        [0. , 0. , 0. , ..., 0. , 0. , 1. ],\n",
       "        [0. , 0. , 0. , ..., 0. , 0. , 1. ]]], shape=(21, 21, 21))"
      ]
     },
     "execution_count": 48,
     "metadata": {},
     "output_type": "execute_result"
    }
   ],
   "source": [
    "T"
   ]
  }
 ],
 "metadata": {
  "kernelspec": {
   "display_name": ".venv",
   "language": "python",
   "name": "python3"
  },
  "language_info": {
   "codemirror_mode": {
    "name": "ipython",
    "version": 3
   },
   "file_extension": ".py",
   "mimetype": "text/x-python",
   "name": "python",
   "nbconvert_exporter": "python",
   "pygments_lexer": "ipython3",
   "version": "3.11.9"
  }
 },
 "nbformat": 4,
 "nbformat_minor": 5
}
